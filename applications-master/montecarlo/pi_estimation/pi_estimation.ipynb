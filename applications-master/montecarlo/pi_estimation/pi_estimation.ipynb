{
 "cells": [
  {
   "cell_type": "markdown",
   "metadata": {},
   "source": [
    "# π Estimation with Monte Carlo methods\n",
    "We demonstrate how to run Monte Carlo simulations with lithops over IBM Cloud Functions. This notebook contains an example of estimation the number π with Monte Carlo. The goal of this notebook is to demonstrate how IBM Cloud Functions can benefit Monte Carlo simulations and not how it can be done using lithops.<br>\n",
    "A Monte Carlo algorithm would randomly place points in the square and use the percentage of randomized points inside of the circle to estimate the value of π\n",
    "![pi](https://upload.wikimedia.org/wikipedia/commons/8/84/Pi_30K.gif)\n",
    "Requirements to run this notebook:\n",
    "\n",
    "* IBM Cloud account. \n",
    "  Register to IBM Cloud Functions, IBM Cloud Object Storage (COS)\n",
    "* You will need to have at least one existing object storage bucket. Follow COS UI to create a bucket if needed"
   ]
  },
  {
   "cell_type": "markdown",
   "metadata": {},
   "source": [
    "# Step 1 - Install dependencies\n",
    "Install dependencies"
   ]
  },
  {
   "cell_type": "code",
   "execution_count": 8,
   "metadata": {},
   "outputs": [],
   "source": [
    "from time import time\n",
    "from random import random\n",
    "import logging\n",
    "import sys\n",
    "\n",
    "try:\n",
    "    import lithops\n",
    "except:\n",
    "    !{sys.executable} -m pip install lithops\n",
    "    import lithops\n",
    "\n",
    "# you can modify logging level if needed\n",
    "#logging.basicConfig(level=logging.INFO)"
   ]
  },
  {
   "cell_type": "markdown",
   "metadata": {},
   "source": [
    "# Step 2 - Write Python code that implements Monte Carlo simulation \n",
    "Below is an example of Python code to demonstrate Monte Carlo model for estimate PI\n",
    "\n",
    "'EstimatePI' is a Python class that we use to represent a single PI estimation. You may configure the following parameters:\n",
    "\n",
    "MAP_INSTANCES - number of IBM Cloud Function invocations. Default is 100<br>\n",
    "randomize_per_map - number of points to random in a single invocation. Default is 10,000,000\n",
    "\n",
    "Our code contains two major Python methods:\n",
    "\n",
    "def randomize_points(self,data=None) - a function to random number of points and return the percentage of points\n",
    "    that inside the circle<br>\n",
    "def process_in_circle_points(self, results, futures): - summarize results of all randomize_points\n",
    "  executions (aka \"reduce\" in map-reduce paradigm)"
   ]
  },
  {
   "cell_type": "code",
   "execution_count": 9,
   "metadata": {},
   "outputs": [],
   "source": [
    "MAP_INSTANCES = 100\n",
    "\n",
    "\n",
    "class EstimatePI:\n",
    "    randomize_per_map = 10000000\n",
    "\n",
    "    def __init__(self):\n",
    "        self.total_randomize_points = MAP_INSTANCES * self.randomize_per_map\n",
    "\n",
    "    def __str__(self):\n",
    "        return \"Total Randomize Points: {:,}\".format(self.randomize_per_map * MAP_INSTANCES)\n",
    "\n",
    "    @staticmethod\n",
    "    def predicate():\n",
    "        x = random()\n",
    "        y = random()\n",
    "        return (x ** 2) + (y ** 2) <= 1\n",
    "\n",
    "    def randomize_points(self, data):\n",
    "        in_circle = 0\n",
    "        for _ in range(self.randomize_per_map):\n",
    "            in_circle += self.predicate()\n",
    "        return float(in_circle / self.randomize_per_map)\n",
    "\n",
    "    def process_in_circle_points(self, results):\n",
    "        in_circle_percent = 0\n",
    "        for map_result in results:\n",
    "            in_circle_percent += map_result\n",
    "        estimate_PI = float(4 * (in_circle_percent / MAP_INSTANCES))\n",
    "        return estimate_PI"
   ]
  },
  {
   "cell_type": "markdown",
   "metadata": {},
   "source": [
    "# Step 3 - Configure access to your COS account and Cloud Functions\n",
    "Configure access details to your IBM COS and IBM Cloud Functions. 'storage_bucket' should point to some pre-existing COS bucket. This bucket will be used by Lithops to store intermediate results. All results will be stored in the folder lithops.jobs. For additional configuration parameters see configuration section"
   ]
  },
  {
   "cell_type": "code",
   "execution_count": 13,
   "metadata": {},
   "outputs": [],
   "source": [
    "config = {'lithops': {'backend': 'ibm_cf', 'storage': 'ibm_cos'},\n",
    "          'ibm': {'iam_api_key': '<IAM_API_KEY>'},# If your namespace is IAM based (To reach cloud functions API without cf api key)\n",
    "          'ibm_cf':  {'endpoint': '<CLOUD_FUNCTIONS_ENDPOINT>',\n",
    "                      'namespace': '<NAME_OF_YOUR_NAMESPACE>',\n",
    "                      'namespace_id': '<GUID_OF_YOUR_NAMESPACE>'# If your namespace is IAM based\n",
    "                      #'api_key': 'YOUR_API_KEY' #If your namespace is \n",
    "                     },\n",
    "          'ibm_cos': {'storage_bucket': '<YOUR_COS_BUCKET_NAME>',\n",
    "                      'region': '<BUCKET_REGION>',\n",
    "                      'api_key': '<YOUR_API_KEY>'}}"
   ]
  },
  {
   "cell_type": "markdown",
   "metadata": {},
   "source": [
    "# Step 4 - Execute simulation with Lithops over IBM Cloud Functions "
   ]
  },
  {
   "cell_type": "code",
   "execution_count": 15,
   "metadata": {},
   "outputs": [
    {
     "name": "stderr",
     "output_type": "stream",
     "text": [
      "2021-09-15 17:50:12,150 [INFO] lithops.config -- Lithops v2.4.1\n",
      "2021-09-15 17:50:12,152 [INFO] lithops.storage.backends.localhost.localhost -- Localhost Storage client created\n",
      "2021-09-15 17:50:12,154 [INFO] lithops.localhost.localhost -- Localhost compute client created\n",
      "2021-09-15 17:50:12,156 [INFO] lithops.invokers -- ExecutorID 4adeba-3 | JobID M000 - Selected Runtime: python.exe \n",
      "2021-09-15 17:50:12,190 [INFO] lithops.invokers -- ExecutorID 4adeba-3 | JobID M000 - Starting function invocation: randomize_points() - Total: 100 activations\n",
      "2021-09-15 17:50:12,205 [INFO] lithops.invokers -- ExecutorID 4adeba-3 | JobID M000 - View execution logs at C:\\Users\\berke\\AppData\\Local\\Temp\\lithops\\logs\\4adeba-3-M000.log\n",
      "2021-09-15 17:50:12,211 [INFO] lithops.invokers -- ExecutorID 4adeba-3 | JobID R000 - Selected Runtime: python.exe \n",
      "2021-09-15 17:50:12,222 [INFO] lithops.invokers -- ExecutorID 4adeba-3 | JobID R000 - Starting function invocation: process_in_circle_points() - Total: 1 activations\n",
      "2021-09-15 17:50:12,234 [INFO] lithops.invokers -- ExecutorID 4adeba-3 | JobID R000 - View execution logs at C:\\Users\\berke\\AppData\\Local\\Temp\\lithops\\logs\\4adeba-3-R000.log\n",
      "2021-09-15 17:50:12,236 [INFO] lithops.wait -- ExecutorID 4adeba-3 - Getting results from functions\n"
     ]
    },
    {
     "name": "stdout",
     "output_type": "stream",
     "text": [
      "Monte Carlo simulation for estimating PI spawing over 100 IBM Cloud Function invocations\n"
     ]
    },
    {
     "data": {
      "application/vnd.jupyter.widget-view+json": {
       "model_id": "6b03e0ef6fd747ef8ea0a5b3cea5535a",
       "version_major": 2,
       "version_minor": 0
      },
      "text/plain": [
       "    0%|          | 0/101  "
      ]
     },
     "metadata": {},
     "output_type": "display_data"
    },
    {
     "name": "stderr",
     "output_type": "stream",
     "text": [
      "2021-09-15 17:53:43,317 [INFO] lithops.executors -- ExecutorID 4adeba-3 - Cleaning temporary data\n"
     ]
    },
    {
     "name": "stdout",
     "output_type": "stream",
     "text": [
      "Total Randomize Points: 1,000,000,000\n",
      "Estimation of Pi:  3.141345199999995\n",
      "\n",
      "Completed in: 211.17597365379333 seconds\n"
     ]
    }
   ],
   "source": [
    "iterdata = [0] * MAP_INSTANCES\n",
    "est_pi = EstimatePI()\n",
    "\n",
    "start_time = time()\n",
    "print(\"Monte Carlo simulation for estimating PI spawing over {} IBM Cloud Function invocations\".format(MAP_INSTANCES))\n",
    "# obtain lithops executor\n",
    "pw = lithops.FunctionExecutor(config=config)\n",
    "# execute the code\n",
    "pw.map_reduce(est_pi.randomize_points, iterdata, est_pi.process_in_circle_points)\n",
    "#get results\n",
    "result = pw.get_result()\n",
    "elapsed = time()\n",
    "print(str(est_pi))\n",
    "print(\"Estimation of Pi: \", result)\n",
    "print(\"\\nCompleted in: \" + str(elapsed - start_time) + \" seconds\")"
   ]
  },
  {
   "cell_type": "code",
   "execution_count": null,
   "metadata": {},
   "outputs": [],
   "source": []
  }
 ],
 "metadata": {
  "kernelspec": {
   "display_name": "Python 3 (ipykernel)",
   "language": "python",
   "name": "python3"
  },
  "language_info": {
   "codemirror_mode": {
    "name": "ipython",
    "version": 3
   },
   "file_extension": ".py",
   "mimetype": "text/x-python",
   "name": "python",
   "nbconvert_exporter": "python",
   "pygments_lexer": "ipython3",
   "version": "3.8.10"
  }
 },
 "nbformat": 4,
 "nbformat_minor": 2
}
