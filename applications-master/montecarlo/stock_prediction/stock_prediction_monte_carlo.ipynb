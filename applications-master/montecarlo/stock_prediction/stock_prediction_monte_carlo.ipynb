{
 "cells": [
  {
   "cell_type": "markdown",
   "metadata": {},
   "source": [
    "# <span style=\"color:blue\">Stock prediction with Monte Carlo methods</span>\n",
    "We demonstrate how to run Monte Carlo simuluations with [lithops](https://github.com/lithops-cloud/lithops) over IBM Cloud Functions. This notebook contains an example of stock prediction with Monte Carlo. The goal of this notebook is to demonstrate how IBM Cloud Functions can benefit Monte Carlo simulations and not how stock prediction works. As stock prediction is very complicated and requires many prior knowledge and correct models, we did not innovate the Monte Carlo Method for handling the unpredictability of stock prices, nor do we provide any results for prediction based on long term data sources.\n",
    "\n",
    "Requirements to run this notebook:\n",
    "\n",
    "    * IBM Cloud account. \n",
    "      Register to IBM Cloud Functions, IBM Cloud Object Storage (COS)\n",
    "    * You will need to have at least one existing object storage bucket. Follow COS UI to create a bucket if needed"
   ]
  },
  {
   "cell_type": "markdown",
   "metadata": {},
   "source": [
    "## <span style=\"color:blue\">Step 1  - Dependencies </span>\n",
    "\n",
    "import and install dependencies"
   ]
  },
  {
   "cell_type": "code",
   "execution_count": null,
   "metadata": {},
   "outputs": [],
   "source": [
    "import numpy as np\n",
    "import sys\n",
    "from time import time\n",
    "import matplotlib.pyplot as plt\n",
    "import scipy.stats as scpy\n",
    "import logging\n",
    "\n",
    "#Install Lithops\n",
    "try:\n",
    "    import lithops\n",
    "except:\n",
    "    !{sys.executable} -m pip install lithops\n",
    "    import lithops\n",
    "\n",
    "# you can modify logging level if needed\n",
    "#logging.basicConfig(level=logging.DEBUG)"
   ]
  },
  {
   "cell_type": "markdown",
   "metadata": {},
   "source": [
    "## <span style=\"color:blue\">Step 2 - Write Python code that implements Monte Carlo simulation </span>\n",
    "Below is an example of Python code to demonstrate Monte Carlo model for stock prediction.\n",
    "\n",
    "'StockData' is a  Python class that we use to represent a single stock. \n",
    " You may configure the following parameters:\n",
    "\n",
    "    MAP_INSTANCES - number of IBM Cloud Function invocations. Default is 1000\n",
    "    forecasts_per_map - number of forecasts to run in a single invocation. Default is 100\n",
    "    day2predict - number of days to predict for each forecast. Default is 730 days\n",
    "\n",
    "Our code contains two major Python methods:\n",
    "\n",
    "    def process_forecasts(data=None) - a function to process number of forecasts and\n",
    "      days as configured. (aka \"map\" in map-reduce paradigm)\n",
    "    def combine_forecasts(results) - summarize results of all process_forecasts\n",
    "      executions (aka \"reduce\" in map-reduce paradigm)\n",
    "    \n",
    "    "
   ]
  },
  {
   "cell_type": "code",
   "execution_count": null,
   "metadata": {},
   "outputs": [],
   "source": [
    "MAP_INSTANCES = 10\n",
    "\n",
    "class StockData:\n",
    "    forecasts_per_map = 100\n",
    "    days2predict = 730\n",
    "\n",
    "    def __init__(self, title, drift, std_dev, last_value):\n",
    "        self.title = title\n",
    "        self.last_value = last_value\n",
    "        self.std_dev = std_dev\n",
    "        self.drift = drift\n",
    "\n",
    "    def single_forecast_generator(self):\n",
    "        predicts_est = [self.last_value]\n",
    "        for predict in range(1, self.days2predict + 1):\n",
    "            rand = np.random.rand()\n",
    "            pow_r = scpy.norm.ppf(rand)\n",
    "            predicts_est.append(predicts_est[predict - 1] * np.exp(self.drift + (self.std_dev * pow_r)))\n",
    "        return predicts_est\n",
    "\n",
    "def process_forecasts(data=None):\n",
    "    end = current_stock.days2predict\n",
    "    mid = int(end / 2)\n",
    "    hist_end = list()\n",
    "    hist_mid = list()\n",
    "    for i in range(StockData.forecasts_per_map):\n",
    "        frc = current_stock.single_forecast_generator()\n",
    "        hist_end.append(frc[end])\n",
    "        hist_mid.append(frc[mid])\n",
    "    return hist_mid, hist_end\n",
    "\n",
    "\n",
    "def combine_forecasts(results):\n",
    "    print(np.__version__)  # in order to import numpy\n",
    "    hist_end = list()\n",
    "    hist_mid = list()\n",
    "    for single_map_result in results:\n",
    "        hist_end.extend(single_map_result[1])\n",
    "        hist_mid.extend(single_map_result[0])\n",
    "    return (hist_mid, hist_end)\n"
   ]
  },
  {
   "cell_type": "markdown",
   "metadata": {},
   "source": [
    "## <span style=\"color:blue\">Step 3 - Configure access to your COS account and Cloud Functions</span>\n",
    "\n",
    "Configure access details to your IBM COS and IBM Cloud Functions.  'storage_bucket'  should point to some pre-existing COS bucket. This bucket will be used by Lithops to store intermediate results. All results will be stored in the folder `lithops.jobs`. For additional configuration parameters see [configuration section](https://github.com/lithops-cloud/lithops)"
   ]
  },
  {
   "cell_type": "code",
   "execution_count": null,
   "metadata": {},
   "outputs": [],
   "source": [
    "config = {'ibm_cf':  {'endpoint': '<IBM Cloud Functions Endpoint>', \n",
    "                      'namespace': '<NAMESPACE>', \n",
    "                      'api_key': '<API KEY>'}, \n",
    "          'ibm_cos': {'endpoint': '<IBM Cloud Object Storage Endpoint>', \n",
    "                      'api_key' : '<API KEY>'},\n",
    "           'lithops' : {'storage_bucket' : '<IBM COS BUCKET>'}}"
   ]
  },
  {
   "cell_type": "markdown",
   "metadata": {},
   "source": [
    "## <span style=\"color:blue\">Step 4 - Input data on the past stock prices </span>\n",
    "This step is mandatory to run our example. The raw stock daily data need to be prepared prior used by the code.\n",
    "You can follow the next steps to create different input data. You may use any spreadsheet for this process or any other tool.\n",
    "\n",
    "    * Fetch historical daily value of the stock from some reliable finance website\n",
    "    * Calculate ln() function of two consecutive days ln (today price / yesterday price )\n",
    "    * Calculate the variance 'var', the average 'u' and standard deviation of the previous results\n",
    "    * Calculate the drift by equation drift = u - (var^2 / 2 )"
   ]
  },
  {
   "cell_type": "code",
   "execution_count": null,
   "metadata": {
    "scrolled": true
   },
   "outputs": [],
   "source": [
    "total_forecasts = MAP_INSTANCES * StockData.forecasts_per_map\n",
    "\n",
    "current_stock = StockData(title=\"Example 2014, 2015, 2016\", drift=-0.00022513546014255100, std_dev=0.0121678341323272,\n",
    "                               last_value=159.44)\n",
    "print(\"Current Stock: \" + current_stock.title)\n",
    "print(\"Total Forecasts: \" + str(total_forecasts))\n",
    "print(\"Days to Predict: \" + str(current_stock.days2predict))"
   ]
  },
  {
   "cell_type": "markdown",
   "metadata": {},
   "source": [
    "## <span style=\"color:blue\"> Step 5 - Execute simulation with Lithops over IBM Cloud Functions </span>"
   ]
  },
  {
   "cell_type": "code",
   "execution_count": null,
   "metadata": {},
   "outputs": [],
   "source": [
    "iterdata = [{}] * MAP_INSTANCES\n",
    "start_time = time()\n",
    "print (\"Monte Carlo simulation for {} using {} forecasts spawing over {} IBM Cloud Function invocations\".format(current_stock.title, total_forecasts, MAP_INSTANCES))\n",
    "# obtain lithops executor\n",
    "fexec = lithops.FunctionExecutor(config=config)\n",
    "# execute the code\n",
    "fexec.map_reduce(process_forecasts, iterdata, combine_forecasts)\n",
    "#get results\n",
    "result = fexec.get_result()\n",
    "\n",
    "elapsed = time()\n",
    "print(\"\\nCompleted in: \" + str(elapsed - start_time) + \" seconds\")"
   ]
  },
  {
   "cell_type": "markdown",
   "metadata": {},
   "source": [
    "## <span style=\"color:blue\">Step 6 - Print the graphs </span>"
   ]
  },
  {
   "cell_type": "code",
   "execution_count": null,
   "metadata": {
    "scrolled": false
   },
   "outputs": [],
   "source": [
    "'''Histogram for end prediction forecast plot'''\n",
    "\n",
    "end_data = result[1]\n",
    "print(\"END Histogram for {} based on {} forecasts. Predicted price after {} days\".format(current_stock.title,total_forecasts, current_stock.days2predict ))\n",
    "plt.hist(end_data, bins='auto')\n",
    "plt.grid(True)\n",
    "plt.title(\"End prediction period histogram\")\n",
    "plt.ylabel(\"Number of forecasts to predict the price\")\n",
    "plt.xlabel(\"Stock price in US Dollars\")\n",
    "plt.show()"
   ]
  }
 ],
 "metadata": {
  "kernelspec": {
   "display_name": "Python 3 (ipykernel)",
   "language": "python",
   "name": "python3"
  },
  "language_info": {
   "codemirror_mode": {
    "name": "ipython",
    "version": 3
   },
   "file_extension": ".py",
   "mimetype": "text/x-python",
   "name": "python",
   "nbconvert_exporter": "python",
   "pygments_lexer": "ipython3",
   "version": "3.8.10"
  }
 },
 "nbformat": 4,
 "nbformat_minor": 1
}
